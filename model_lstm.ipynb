{
 "cells": [
  {
   "cell_type": "code",
   "execution_count": 1,
   "metadata": {},
   "outputs": [
    {
     "name": "stdout",
     "output_type": "stream",
     "text": [
      "WARNING:tensorflow:From c:\\Users\\diash\\anaconda3\\envs\\cybersecurity\\Lib\\site-packages\\keras\\src\\losses.py:2976: The name tf.losses.sparse_softmax_cross_entropy is deprecated. Please use tf.compat.v1.losses.sparse_softmax_cross_entropy instead.\n",
      "\n"
     ]
    }
   ],
   "source": [
    "import pandas as pd\n",
    "import numpy as np\n",
    "import tensorflow as tf\n",
    "from tensorflow.keras.preprocessing.text import Tokenizer\n",
    "from tensorflow.keras.preprocessing.sequence import pad_sequences\n",
    "from tensorflow.keras.models import Sequential\n",
    "from tensorflow.keras.layers import Embedding, LSTM, Dense, Dropout"
   ]
  },
  {
   "cell_type": "code",
   "execution_count": 2,
   "metadata": {},
   "outputs": [],
   "source": [
    "# 1. Memuat data\n",
    "# Asumsikan data Anda dalam bentuk berikut\n",
    "# data = {'text': [\"komentar1\", \"komentar2\", ...], 'label': [0, 1, ...]}\n",
    "data = pd.read_csv('dataset-judol-final.csv', encoding='utf-8')  # Ganti dengan path ke file dataset Anda"
   ]
  },
  {
   "cell_type": "code",
   "execution_count": 3,
   "metadata": {},
   "outputs": [
    {
     "data": {
      "text/html": [
       "<div>\n",
       "<style scoped>\n",
       "    .dataframe tbody tr th:only-of-type {\n",
       "        vertical-align: middle;\n",
       "    }\n",
       "\n",
       "    .dataframe tbody tr th {\n",
       "        vertical-align: top;\n",
       "    }\n",
       "\n",
       "    .dataframe thead th {\n",
       "        text-align: right;\n",
       "    }\n",
       "</style>\n",
       "<table border=\"1\" class=\"dataframe\">\n",
       "  <thead>\n",
       "    <tr style=\"text-align: right;\">\n",
       "      <th></th>\n",
       "      <th>label</th>\n",
       "      <th>author</th>\n",
       "      <th>comment</th>\n",
       "      <th>video_id</th>\n",
       "      <th>channel</th>\n",
       "      <th>title</th>\n",
       "    </tr>\n",
       "  </thead>\n",
       "  <tbody>\n",
       "    <tr>\n",
       "      <th>0</th>\n",
       "      <td>1</td>\n",
       "      <td>lukman8584</td>\n",
       "      <td>𝙒𝙄𝘽𝙐69𝙅𝙋 Memberikan Pelayanan Terbaik Sepanjan...</td>\n",
       "      <td>153XPkkQbxo</td>\n",
       "      <td>KOMPASTV</td>\n",
       "      <td>Blak-blakan! Menteri ESDM Bahlil soal Aturan B...</td>\n",
       "    </tr>\n",
       "    <tr>\n",
       "      <th>1</th>\n",
       "      <td>0</td>\n",
       "      <td>sorasore132</td>\n",
       "      <td>Dia ingin membantu rakyat tapi dengan cara yan...</td>\n",
       "      <td>153XPkkQbxo</td>\n",
       "      <td>KOMPASTV</td>\n",
       "      <td>Blak-blakan! Menteri ESDM Bahlil soal Aturan B...</td>\n",
       "    </tr>\n",
       "    <tr>\n",
       "      <th>2</th>\n",
       "      <td>1</td>\n",
       "      <td>nirvanasound4361</td>\n",
       "      <td>Tiap hari ada aja hal baru di 𝐀Е𝐑𝑂𝟾𝟖, bikin pe...</td>\n",
       "      <td>153XPkkQbxo</td>\n",
       "      <td>KOMPASTV</td>\n",
       "      <td>Blak-blakan! Menteri ESDM Bahlil soal Aturan B...</td>\n",
       "    </tr>\n",
       "    <tr>\n",
       "      <th>3</th>\n",
       "      <td>1</td>\n",
       "      <td>asepruswandi5091</td>\n",
       "      <td>𝘼G𝘜𝘚𝘛О𝙏О modal tipis doang, gua lngsg WEDEY gede</td>\n",
       "      <td>153XPkkQbxo</td>\n",
       "      <td>KOMPASTV</td>\n",
       "      <td>Blak-blakan! Menteri ESDM Bahlil soal Aturan B...</td>\n",
       "    </tr>\n",
       "    <tr>\n",
       "      <th>4</th>\n",
       "      <td>1</td>\n",
       "      <td>anwarsopian-p8j</td>\n",
       "      <td>🆂🅴🅺🅰🆁🅰🅽🅶 ❗ 🅳🅸 🅺🆄🅽🅶 🆂🅴🆁🅾🅽🅾 🅹🆄🅳🅸 🎲 🎰 𝕞𝕒𝕚𝕟 𝕡𝕠𝕜𝕖𝕣 ...</td>\n",
       "      <td>153XPkkQbxo</td>\n",
       "      <td>KOMPASTV</td>\n",
       "      <td>Blak-blakan! Menteri ESDM Bahlil soal Aturan B...</td>\n",
       "    </tr>\n",
       "    <tr>\n",
       "      <th>...</th>\n",
       "      <td>...</td>\n",
       "      <td>...</td>\n",
       "      <td>...</td>\n",
       "      <td>...</td>\n",
       "      <td>...</td>\n",
       "      <td>...</td>\n",
       "    </tr>\n",
       "    <tr>\n",
       "      <th>894</th>\n",
       "      <td>0</td>\n",
       "      <td>RahmadKunanto-ye9kl</td>\n",
       "      <td>Mau memoermudah malah mempersulit rakyat,,</td>\n",
       "      <td>TerK02wFTz0</td>\n",
       "      <td>tvOneNews</td>\n",
       "      <td>Warga Protes Buang Tabung Gas LPG 3 Kg, Dampak...</td>\n",
       "    </tr>\n",
       "    <tr>\n",
       "      <th>895</th>\n",
       "      <td>1</td>\n",
       "      <td>willykristian8971</td>\n",
       "      <td>BURUAN ABSEN YANG UDAH PADA COBAIN 𝙒𝙄𝘽𝙐69𝙅𝙋 ?</td>\n",
       "      <td>TerK02wFTz0</td>\n",
       "      <td>tvOneNews</td>\n",
       "      <td>Warga Protes Buang Tabung Gas LPG 3 Kg, Dampak...</td>\n",
       "    </tr>\n",
       "    <tr>\n",
       "      <th>896</th>\n",
       "      <td>0</td>\n",
       "      <td>hamidahusni8307</td>\n",
       "      <td>Sangat mempersulit rakyat kecil...</td>\n",
       "      <td>TerK02wFTz0</td>\n",
       "      <td>tvOneNews</td>\n",
       "      <td>Warga Protes Buang Tabung Gas LPG 3 Kg, Dampak...</td>\n",
       "    </tr>\n",
       "    <tr>\n",
       "      <th>897</th>\n",
       "      <td>0</td>\n",
       "      <td>y_putra</td>\n",
       "      <td>sengaja bgt bikin gaduh biar pagar laut dilupa...</td>\n",
       "      <td>TerK02wFTz0</td>\n",
       "      <td>tvOneNews</td>\n",
       "      <td>Warga Protes Buang Tabung Gas LPG 3 Kg, Dampak...</td>\n",
       "    </tr>\n",
       "    <tr>\n",
       "      <th>898</th>\n",
       "      <td>1</td>\n",
       "      <td>darma-y1e</td>\n",
       "      <td>bjirr ngeri kali looo main di pulau777 langsng...</td>\n",
       "      <td>TerK02wFTz0</td>\n",
       "      <td>tvOneNews</td>\n",
       "      <td>Warga Protes Buang Tabung Gas LPG 3 Kg, Dampak...</td>\n",
       "    </tr>\n",
       "  </tbody>\n",
       "</table>\n",
       "<p>899 rows × 6 columns</p>\n",
       "</div>"
      ],
      "text/plain": [
       "     label               author  \\\n",
       "0        1           lukman8584   \n",
       "1        0          sorasore132   \n",
       "2        1     nirvanasound4361   \n",
       "3        1     asepruswandi5091   \n",
       "4        1      anwarsopian-p8j   \n",
       "..     ...                  ...   \n",
       "894      0  RahmadKunanto-ye9kl   \n",
       "895      1    willykristian8971   \n",
       "896      0      hamidahusni8307   \n",
       "897      0              y_putra   \n",
       "898      1            darma-y1e   \n",
       "\n",
       "                                               comment     video_id  \\\n",
       "0    𝙒𝙄𝘽𝙐69𝙅𝙋 Memberikan Pelayanan Terbaik Sepanjan...  153XPkkQbxo   \n",
       "1    Dia ingin membantu rakyat tapi dengan cara yan...  153XPkkQbxo   \n",
       "2    Tiap hari ada aja hal baru di 𝐀Е𝐑𝑂𝟾𝟖, bikin pe...  153XPkkQbxo   \n",
       "3     𝘼G𝘜𝘚𝘛О𝙏О modal tipis doang, gua lngsg WEDEY gede  153XPkkQbxo   \n",
       "4    🆂🅴🅺🅰🆁🅰🅽🅶 ❗ 🅳🅸 🅺🆄🅽🅶 🆂🅴🆁🅾🅽🅾 🅹🆄🅳🅸 🎲 🎰 𝕞𝕒𝕚𝕟 𝕡𝕠𝕜𝕖𝕣 ...  153XPkkQbxo   \n",
       "..                                                 ...          ...   \n",
       "894         Mau memoermudah malah mempersulit rakyat,,  TerK02wFTz0   \n",
       "895      BURUAN ABSEN YANG UDAH PADA COBAIN 𝙒𝙄𝘽𝙐69𝙅𝙋 ?  TerK02wFTz0   \n",
       "896                 Sangat mempersulit rakyat kecil...  TerK02wFTz0   \n",
       "897  sengaja bgt bikin gaduh biar pagar laut dilupa...  TerK02wFTz0   \n",
       "898  bjirr ngeri kali looo main di pulau777 langsng...  TerK02wFTz0   \n",
       "\n",
       "        channel                                              title  \n",
       "0      KOMPASTV  Blak-blakan! Menteri ESDM Bahlil soal Aturan B...  \n",
       "1      KOMPASTV  Blak-blakan! Menteri ESDM Bahlil soal Aturan B...  \n",
       "2      KOMPASTV  Blak-blakan! Menteri ESDM Bahlil soal Aturan B...  \n",
       "3      KOMPASTV  Blak-blakan! Menteri ESDM Bahlil soal Aturan B...  \n",
       "4      KOMPASTV  Blak-blakan! Menteri ESDM Bahlil soal Aturan B...  \n",
       "..          ...                                                ...  \n",
       "894  tvOneNews   Warga Protes Buang Tabung Gas LPG 3 Kg, Dampak...  \n",
       "895  tvOneNews   Warga Protes Buang Tabung Gas LPG 3 Kg, Dampak...  \n",
       "896  tvOneNews   Warga Protes Buang Tabung Gas LPG 3 Kg, Dampak...  \n",
       "897  tvOneNews   Warga Protes Buang Tabung Gas LPG 3 Kg, Dampak...  \n",
       "898  tvOneNews   Warga Protes Buang Tabung Gas LPG 3 Kg, Dampak...  \n",
       "\n",
       "[899 rows x 6 columns]"
      ]
     },
     "execution_count": 3,
     "metadata": {},
     "output_type": "execute_result"
    }
   ],
   "source": [
    "data"
   ]
  },
  {
   "cell_type": "code",
   "execution_count": 4,
   "metadata": {},
   "outputs": [],
   "source": [
    "\n",
    "# 2. Preprocessing Teks\n",
    "# Tokenisasi teks\n",
    "max_words = 10000\n",
    "max_len = 100\n",
    "\n",
    "tokenizer = Tokenizer(num_words=max_words)\n",
    "tokenizer.fit_on_texts(data['comment'])\n",
    "sequences = tokenizer.texts_to_sequences(data['comment'])\n",
    "x_data = pad_sequences(sequences, maxlen=max_len)\n",
    "\n",
    "# Mengubah label menjadi bentuk numpy array\n",
    "y_data = np.array(data['label'])"
   ]
  },
  {
   "cell_type": "code",
   "execution_count": 5,
   "metadata": {},
   "outputs": [
    {
     "name": "stdout",
     "output_type": "stream",
     "text": [
      "WARNING:tensorflow:From c:\\Users\\diash\\anaconda3\\envs\\cybersecurity\\Lib\\site-packages\\keras\\src\\backend.py:873: The name tf.get_default_graph is deprecated. Please use tf.compat.v1.get_default_graph instead.\n",
      "\n"
     ]
    }
   ],
   "source": [
    "# 3. Membangun Model LSTM\n",
    "model = Sequential()\n",
    "model.add(Embedding(input_dim=max_words, output_dim=128, input_length=max_len))\n",
    "model.add(LSTM(64, return_sequences=True))\n",
    "model.add(Dropout(0.5))\n",
    "model.add(LSTM(32))\n",
    "model.add(Dropout(0.5))\n",
    "model.add(Dense(1, activation='sigmoid'))"
   ]
  },
  {
   "cell_type": "code",
   "execution_count": 6,
   "metadata": {},
   "outputs": [
    {
     "name": "stdout",
     "output_type": "stream",
     "text": [
      "WARNING:tensorflow:From c:\\Users\\diash\\anaconda3\\envs\\cybersecurity\\Lib\\site-packages\\keras\\src\\optimizers\\__init__.py:309: The name tf.train.Optimizer is deprecated. Please use tf.compat.v1.train.Optimizer instead.\n",
      "\n",
      "Epoch 1/10\n",
      "WARNING:tensorflow:From c:\\Users\\diash\\anaconda3\\envs\\cybersecurity\\Lib\\site-packages\\keras\\src\\utils\\tf_utils.py:492: The name tf.ragged.RaggedTensorValue is deprecated. Please use tf.compat.v1.ragged.RaggedTensorValue instead.\n",
      "\n",
      "WARNING:tensorflow:From c:\\Users\\diash\\anaconda3\\envs\\cybersecurity\\Lib\\site-packages\\keras\\src\\engine\\base_layer_utils.py:384: The name tf.executing_eagerly_outside_functions is deprecated. Please use tf.compat.v1.executing_eagerly_outside_functions instead.\n",
      "\n",
      "23/23 [==============================] - 9s 118ms/step - loss: 0.6685 - accuracy: 0.5828 - val_loss: 0.6172 - val_accuracy: 0.7500\n",
      "Epoch 2/10\n",
      "23/23 [==============================] - 1s 60ms/step - loss: 0.4700 - accuracy: 0.8234 - val_loss: 0.3189 - val_accuracy: 0.8611\n",
      "Epoch 3/10\n",
      "23/23 [==============================] - 1s 62ms/step - loss: 0.4161 - accuracy: 0.9110 - val_loss: 0.2312 - val_accuracy: 0.9167\n",
      "Epoch 4/10\n",
      "23/23 [==============================] - 1s 65ms/step - loss: 0.0993 - accuracy: 0.9917 - val_loss: 0.2014 - val_accuracy: 0.9111\n",
      "Epoch 5/10\n",
      "23/23 [==============================] - 1s 65ms/step - loss: 0.0565 - accuracy: 0.9958 - val_loss: 0.2248 - val_accuracy: 0.8889\n",
      "Epoch 6/10\n",
      "23/23 [==============================] - 1s 61ms/step - loss: 0.0359 - accuracy: 0.9986 - val_loss: 0.2334 - val_accuracy: 0.8944\n",
      "Epoch 7/10\n",
      "23/23 [==============================] - 2s 68ms/step - loss: 0.0314 - accuracy: 0.9972 - val_loss: 0.1943 - val_accuracy: 0.9167\n",
      "Epoch 8/10\n",
      "23/23 [==============================] - 1s 65ms/step - loss: 0.0266 - accuracy: 0.9986 - val_loss: 0.2036 - val_accuracy: 0.9111\n",
      "Epoch 9/10\n",
      "23/23 [==============================] - 1s 65ms/step - loss: 0.0194 - accuracy: 0.9972 - val_loss: 0.2156 - val_accuracy: 0.9167\n",
      "Epoch 10/10\n",
      "23/23 [==============================] - 1s 63ms/step - loss: 0.0173 - accuracy: 0.9986 - val_loss: 0.2757 - val_accuracy: 0.8944\n"
     ]
    }
   ],
   "source": [
    "# 4. Kompilasi dan Pelatihan Model\n",
    "model.compile(optimizer='adam', loss='binary_crossentropy', metrics=['accuracy'])\n",
    "\n",
    "# Membagi data menjadi data pelatihan dan validasi\n",
    "from sklearn.model_selection import train_test_split\n",
    "x_train, x_val, y_train, y_val = train_test_split(x_data, y_data, test_size=0.2, random_state=42)\n",
    "\n",
    "history = model.fit(x_train, y_train, epochs=10, batch_size=32, validation_data=(x_val, y_val))"
   ]
  },
  {
   "cell_type": "code",
   "execution_count": 7,
   "metadata": {},
   "outputs": [
    {
     "name": "stdout",
     "output_type": "stream",
     "text": [
      "6/6 [==============================] - 0s 18ms/step - loss: 0.2757 - accuracy: 0.8944\n",
      "Loss: 0.2757229208946228, Accuracy: 0.894444465637207\n"
     ]
    }
   ],
   "source": [
    "# 5. Evaluasi Model\n",
    "loss, accuracy = model.evaluate(x_val, y_val)\n",
    "print(f\"Loss: {loss}, Accuracy: {accuracy}\")"
   ]
  },
  {
   "cell_type": "code",
   "execution_count": 8,
   "metadata": {},
   "outputs": [
    {
     "data": {
      "image/png": "[encoded data removed]",
      "text/plain": [
       "<Figure size 1200x600 with 2 Axes>"
      ]
     },
     "metadata": {},
     "output_type": "display_data"
    }
   ],
   "source": [
    "import matplotlib.pyplot as plt\n",
    "\n",
    "# Plotting accuracy\n",
    "plt.figure(figsize=(12, 6))\n",
    "\n",
    "plt.subplot(1, 2, 1)\n",
    "plt.plot(history.history['accuracy'], label='Training Accuracy')\n",
    "plt.plot(history.history['val_accuracy'], label='Validation Accuracy')\n",
    "plt.title('Accuracy vs. Validation Accuracy')\n",
    "plt.xlabel('Epochs')\n",
    "plt.ylabel('Accuracy')\n",
    "plt.legend()\n",
    "\n",
    "# Plotting loss\n",
    "plt.subplot(1, 2, 2)\n",
    "plt.plot(history.history['loss'], label='Training Loss')\n",
    "plt.plot(history.history['val_loss'], label='Validation Loss')\n",
    "plt.title('Loss vs. Validation Loss')\n",
    "plt.xlabel('Epochs')\n",
    "plt.ylabel('Loss')\n",
    "plt.legend()\n",
    "\n",
    "plt.show()"
   ]
  },
  {
   "cell_type": "code",
   "execution_count": 22,
   "metadata": {},
   "outputs": [
    {
     "name": "stderr",
     "output_type": "stream",
     "text": [
      "c:\\Users\\diash\\anaconda3\\envs\\cybersecurity\\Lib\\site-packages\\keras\\src\\engine\\training.py:3103: UserWarning: You are saving your model as an HDF5 file via `model.save()`. This file format is considered legacy. We recommend using instead the native Keras format, e.g. `model.save('my_model.keras')`.\n",
      "  saving_api.save_model(\n"
     ]
    }
   ],
   "source": [
    "model.save('model.h5')"
   ]
  },
  {
   "cell_type": "code",
   "execution_count": 10,
   "metadata": {},
   "outputs": [
    {
     "name": "stdout",
     "output_type": "stream",
     "text": [
      "INFO:tensorflow:Assets written to: C:\\Users\\diash\\AppData\\Local\\Temp\\tmp60mr9j4f\\assets\n"
     ]
    },
    {
     "name": "stderr",
     "output_type": "stream",
     "text": [
      "INFO:tensorflow:Assets written to: C:\\Users\\diash\\AppData\\Local\\Temp\\tmp60mr9j4f\\assets\n"
     ]
    }
   ],
   "source": [
    "import tensorflow as tf\n",
    "\n",
    "# Convert the model to TensorFlow Lite format\n",
    "converter = tf.lite.TFLiteConverter.from_keras_model(model)\n",
    "\n",
    "# Allow TensorFlow operations and disable experimental lowering\n",
    "converter.target_spec.supported_ops = [\n",
    "    tf.lite.OpsSet.TFLITE_BUILTINS,  # Enable TensorFlow Lite ops.\n",
    "    tf.lite.OpsSet.SELECT_TF_OPS     # Enable TensorFlow ops.\n",
    "]\n",
    "converter._experimental_lower_tensor_list_ops = False\n",
    "\n",
    "# Convert the model\n",
    "tflite_model = converter.convert()\n",
    "\n",
    "# Save the model to a file\n",
    "with open('model.tflite', 'wb') as f:\n",
    "    f.write(tflite_model)"
   ]
  },
  {
   "cell_type": "code",
   "execution_count": null,
   "metadata": {},
   "outputs": [],
   "source": []
  }
 ],
 "metadata": {
  "kernelspec": {
   "display_name": "Python 3",
   "language": "python",
   "name": "python3"
  },
  "language_info": {
   "codemirror_mode": {
    "name": "ipython",
    "version": 3
   },
   "file_extension": ".py",
   "mimetype": "text/x-python",
   "name": "python",
   "nbconvert_exporter": "python",
   "pygments_lexer": "ipython3",
   "version": "3.11.7"
  }
 },
 "nbformat": 4,
 "nbformat_minor": 2
}
